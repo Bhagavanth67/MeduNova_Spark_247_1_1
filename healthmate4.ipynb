{
  "nbformat": 4,
  "nbformat_minor": 0,
  "metadata": {
    "colab": {
      "provenance": [],
      "authorship_tag": "ABX9TyM8onLjhSplOhlvhcCOxwrq",
      "include_colab_link": true
    },
    "kernelspec": {
      "name": "python3",
      "display_name": "Python 3"
    },
    "language_info": {
      "name": "python"
    }
  },
  "cells": [
    {
      "cell_type": "markdown",
      "metadata": {
        "id": "view-in-github",
        "colab_type": "text"
      },
      "source": [
        "<a href=\"https://colab.research.google.com/github/Bhagavanth67/Mini-Project-1/blob/main/healthmate4.ipynb\" target=\"_parent\"><img src=\"https://colab.research.google.com/assets/colab-badge.svg\" alt=\"Open In Colab\"/></a>"
      ]
    },
    {
      "cell_type": "code",
      "execution_count": null,
      "metadata": {
        "id": "NTn4ZmT0BEpA"
      },
      "outputs": [],
      "source": [
        "import pandas as pd\n",
        "import numpy as np\n",
        "\n",
        "class MediCheck:\n",
        "    def __init__(self, name, age, weight, height):\n",
        "        self.name = name\n",
        "        self.age = age\n",
        "        self.weight = weight\n",
        "        self.height = height / 100  # convert cm to meters\n",
        "\n",
        "    def calculate_bmi(self):\n",
        "        bmi = self.weight / (self.height ** 2)\n",
        "        if bmi < 18.5:\n",
        "            category = \"Underweight\"\n",
        "        elif bmi < 25:\n",
        "            category = \"Normal\"\n",
        "        elif bmi < 30:\n",
        "            category = \"Overweight\"\n",
        "        else:\n",
        "            category = \"Obese\"\n",
        "        return round(bmi, 2), category\n",
        "\n",
        "\n",
        "users = []\n",
        "\n",
        "while True:\n",
        "    print(\"\\n--- MediCheck CLI ---\")\n",
        "    print(\"1. Add new user\")\n",
        "    print(\"2. View BMI stats\")\n",
        "    print(\"3. Exit\")\n",
        "    choice = input(\"Enter your choice: \")\n",
        "\n",
        "    if choice == \"3\":\n",
        "        print(\"Goodbye!\")\n",
        "        break\n",
        "\n",
        "    elif choice == \"1\":\n",
        "        try:\n",
        "            name = input(\"Name: \")\n",
        "            age = int(input(\"Age: \"))\n",
        "            weight = float(input(\"Weight (kg): \"))\n",
        "            height = float(input(\"Height (cm): \"))\n",
        "\n",
        "            if age <= 0 or weight <= 0 or height <= 0:\n",
        "                print(\"Enter positive numbers only.\")\n",
        "                continue\n",
        "\n",
        "            person = MediCheck(name, age, weight, height)\n",
        "            bmi, category = person.calculate_bmi()\n",
        "\n",
        "            print(f\"\\n{name}'s BMI is {bmi} ({category})\")\n",
        "\n",
        "            users.append({\n",
        "                \"Name\": name,\n",
        "                \"Age\": age,\n",
        "                \"Weight(kg)\": weight,\n",
        "                \"Height(cm)\": height,\n",
        "                \"BMI\": bmi,\n",
        "                \"Category\": category\n",
        "            })\n",
        "\n",
        "            df = pd.DataFrame(users)\n",
        "            df.to_csv(\"health_data.csv\", index=False)\n",
        "            print(\"Data saved to health_data.csv\")\n",
        "\n",
        "        except ValueError:\n",
        "            print(\"Please enter valid numbers.\")\n",
        "\n",
        "    elif choice == \"2\":\n",
        "        if not users:\n",
        "            print(\"No data available yet.\")\n",
        "            continue\n",
        "\n",
        "        df = pd.DataFrame(users)\n",
        "        print(\"\\n--- BMI Stats ---\")\n",
        "        print(\"Total Users:\", len(df))\n",
        "        print(\"Average BMI:\", round(np.mean(df[\"BMI\"]), 2))\n",
        "        print(\"\\nCategory Count:\")\n",
        "        print(df[\"Category\"].value_counts())\n",
        "\n",
        "    else:\n",
        "        print(\"Invalid choice. Try again.\")\n"
      ]
    }
  ]
}