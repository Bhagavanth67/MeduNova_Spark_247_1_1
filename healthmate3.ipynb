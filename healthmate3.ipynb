{
  "nbformat": 4,
  "nbformat_minor": 0,
  "metadata": {
    "colab": {
      "provenance": [],
      "authorship_tag": "ABX9TyPgwCSc1/yG3PkDYoWVzsRA",
      "include_colab_link": true
    },
    "kernelspec": {
      "name": "python3",
      "display_name": "Python 3"
    },
    "language_info": {
      "name": "python"
    }
  },
  "cells": [
    {
      "cell_type": "markdown",
      "metadata": {
        "id": "view-in-github",
        "colab_type": "text"
      },
      "source": [
        "<a href=\"https://colab.research.google.com/github/Bhagavanth67/Mini-Project-1/blob/main/healthmate3.ipynb\" target=\"_parent\"><img src=\"https://colab.research.google.com/assets/colab-badge.svg\" alt=\"Open In Colab\"/></a>"
      ]
    },
    {
      "cell_type": "code",
      "execution_count": null,
      "metadata": {
        "id": "00R2_M3CiyKg"
      },
      "outputs": [],
      "source": [
        "class MediCheck:\n",
        "    def __init__(self, name, age, weight, height_cm):\n",
        "        self.name = name\n",
        "        self.age = age\n",
        "        self.weight = weight\n",
        "        self.height_m = height_cm / 100\n",
        "\n",
        "    def calculate_bmi(self):\n",
        "        bmi = self.weight / (self.height_m ** 2)\n",
        "        if bmi < 18.5:\n",
        "            category = \"Underweight\"\n",
        "        elif 18.5 <= bmi < 24.9:\n",
        "            category = \"Normal\"\n",
        "        elif 25 <= bmi < 29.9:\n",
        "            category = \"Overweight\"\n",
        "        else:\n",
        "            category = \"Obese\"\n",
        "        return round(bmi, 2), category\n",
        "\n",
        "    def ideal_weight_range(self):\n",
        "        min_wt = 18.5 * (self.height_m ** 2)\n",
        "        max_wt = 24.9 * (self.height_m ** 2)\n",
        "        return round(min_wt, 2), round(max_wt, 2)\n",
        "\n",
        "    def heart_rate_zone(self):\n",
        "        max_hr = 220 - self.age\n",
        "        return round(0.5 * max_hr), round(0.85 * max_hr)\n",
        "\n",
        "    def show_report(self):\n",
        "        bmi_val, category = self.calculate_bmi()\n",
        "        min_wt, max_wt = self.ideal_weight_range()\n",
        "        hr_min, hr_max = self.heart_rate_zone()\n",
        "\n",
        "        print(f\"\\nHealth Report for {self.name}\")\n",
        "        print(f\"BMI: {bmi_val} ({category})\")\n",
        "        print(f\"Ideal Weight Range: {min_wt} – {max_wt} kg\")\n",
        "        print(f\"Recommended Exercise HR: {hr_min} – {hr_max} bpm\")\n",
        "\n",
        "\n",
        "while True:\n",
        "    print(\"\\n--- MediCheck CLI (OOP) ---\")\n",
        "    print(\"1. Enter new user data\")\n",
        "    print(\"2. Exit\")\n",
        "    choice = input(\"Choose an option: \")\n",
        "\n",
        "    if choice == '2':\n",
        "        print(\"Goodbye!\")\n",
        "        break\n",
        "    elif choice == '1':\n",
        "        name = input(\"Name: \")\n",
        "        age = int(input(\"Age: \"))\n",
        "        weight = float(input(\"Weight (kg): \"))\n",
        "        height_cm = float(input(\"Height (cm): \"))\n",
        "\n",
        "        user = MediCheck(name, age, weight, height_cm)\n",
        "        user.show_report()\n",
        "    else:\n",
        "        print(\"Invalid choice. Please try again.\")\n"
      ]
    }
  ]
}