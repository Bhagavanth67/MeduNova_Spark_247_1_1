{
  "nbformat": 4,
  "nbformat_minor": 0,
  "metadata": {
    "colab": {
      "provenance": [],
      "authorship_tag": "ABX9TyMcDqBmMANDF45qv1rM75TG",
      "include_colab_link": true
    },
    "kernelspec": {
      "name": "python3",
      "display_name": "Python 3"
    },
    "language_info": {
      "name": "python"
    }
  },
  "cells": [
    {
      "cell_type": "markdown",
      "metadata": {
        "id": "view-in-github",
        "colab_type": "text"
      },
      "source": [
        "<a href=\"https://colab.research.google.com/github/Bhagavanth67/Mini-Project---1/blob/main/healthmate.ipynb\" target=\"_parent\"><img src=\"https://colab.research.google.com/assets/colab-badge.svg\" alt=\"Open In Colab\"/></a>"
      ]
    },
    {
      "cell_type": "code",
      "source": [
        "def calculate_bmi(weight, height):\n",
        "    bmi = weight / (height ** 2)\n",
        "\n",
        "    if bmi < 18.5:\n",
        "        category = \"Underweight\"\n",
        "    elif 18.5 <= bmi < 24.9:\n",
        "        category = \"Normal\"\n",
        "    elif 25 <= bmi < 29.9:\n",
        "        category = \"Overweight\"\n",
        "    else:\n",
        "        category = \"Obese\"\n",
        "    return round(bmi, 2), category\n",
        "\n",
        "while True:\n",
        "    print(\"\\nWelcome to MediCheck CLI!\")\n",
        "    print(\"1. Enter new user data\")\n",
        "    print(\"2. Exit\")\n",
        "    choice = int(input(\"Choose an option: \"))\n",
        "    if choice == '1':\n",
        "        name = input(\"Name: \")\n",
        "        age = int(input(\"Age: \"))\n",
        "        weight = float(input(\"Weight (kg): \"))\n",
        "        height = float(input(\"Height (m): \"))\n",
        "        bmi_val, category = calculate_bmi(weight, height)\n",
        "        print(f\"\\n{name}'s BMI: {bmi_val} ({category})\")\n",
        "    elif choice == '2':\n",
        "        print(\"Goodbye!\")\n",
        "        break\n",
        "    else:\n",
        "        print(\"Invalid choice. Please try again.\")"
      ],
      "metadata": {
        "id": "7Y5C8BuQbMwz"
      },
      "execution_count": null,
      "outputs": []
    }
  ]
}